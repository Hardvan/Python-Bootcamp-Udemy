{
 "cells": [
  {
   "cell_type": "markdown",
   "metadata": {},
   "source": [
    "## Card Class\n",
    "#### Suit, Rank, Value"
   ]
  },
  {
   "cell_type": "code",
   "execution_count": 420,
   "metadata": {},
   "outputs": [],
   "source": [
    "import random\n",
    "\n",
    "suits = (\"Hearts\", \"Diamonds\", \"Spades\", \"Clubs\")\n",
    "ranks = (\"Two\", \"Three\", \"Four\", \"Five\", \"Six\", \"Seven\", \"Eight\", \"Nine\", \"Ten\",\n",
    "         \"Jack\", \"Queen\", \"King\", \"Ace\")\n",
    "values = {\"Two\":2, \"Three\":3, \"Four\":4, \"Five\":5, \"Six\":6, \"Seven\":7, \"Eight\":8, \"Nine\":9, \"Ten\":10,\n",
    "          \"Jack\":11, \"Queen\":12, \"King\":13, \"Ace\":14}"
   ]
  },
  {
   "cell_type": "code",
   "execution_count": 421,
   "metadata": {},
   "outputs": [],
   "source": [
    "class Card:\n",
    "    \n",
    "    def __init__(self, suit, rank):\n",
    "        self.suit = suit\n",
    "        self.rank = rank\n",
    "        self.value = values[rank]\n",
    "    \n",
    "    def __str__(self):\n",
    "        return f\"{self.rank} of {self.suit}\""
   ]
  },
  {
   "cell_type": "code",
   "execution_count": 422,
   "metadata": {},
   "outputs": [],
   "source": [
    "two_of_hearts = Card(\"Hearts\",\"Two\")"
   ]
  },
  {
   "cell_type": "code",
   "execution_count": 423,
   "metadata": {},
   "outputs": [
    {
     "data": {
      "text/plain": [
       "<__main__.Card at 0x16512943e50>"
      ]
     },
     "execution_count": 423,
     "metadata": {},
     "output_type": "execute_result"
    }
   ],
   "source": [
    "two_of_hearts"
   ]
  },
  {
   "cell_type": "code",
   "execution_count": 424,
   "metadata": {},
   "outputs": [
    {
     "name": "stdout",
     "output_type": "stream",
     "text": [
      "Two of Hearts\n",
      "Hearts\n",
      "Two\n",
      "2\n"
     ]
    }
   ],
   "source": [
    "print(two_of_hearts)\n",
    "print(two_of_hearts.suit)\n",
    "print(two_of_hearts.rank)\n",
    "print(two_of_hearts.value)"
   ]
  },
  {
   "cell_type": "markdown",
   "metadata": {},
   "source": [
    "## Deck Class\n",
    "#### Holds a list of Card Objects"
   ]
  },
  {
   "cell_type": "code",
   "execution_count": 425,
   "metadata": {},
   "outputs": [],
   "source": [
    "class Deck:\n",
    "    \n",
    "    def __init__(self):\n",
    "        self.all_cards = []\n",
    "        \n",
    "        for suit in suits:\n",
    "            for rank in ranks:\n",
    "                # Creating Card Object\n",
    "                self.all_cards.append(Card(suit, rank))\n",
    "     \n",
    "    def shuffle(self):\n",
    "        random.shuffle(self.all_cards)\n",
    "    \n",
    "    def deal_one(self):\n",
    "        return self.all_cards.pop()"
   ]
  },
  {
   "cell_type": "code",
   "execution_count": 426,
   "metadata": {},
   "outputs": [],
   "source": [
    "new_deck = Deck()"
   ]
  },
  {
   "cell_type": "code",
   "execution_count": 427,
   "metadata": {},
   "outputs": [
    {
     "name": "stdout",
     "output_type": "stream",
     "text": [
      "Two of Hearts\n",
      "Ace of Clubs\n"
     ]
    }
   ],
   "source": [
    "first_card = new_deck.all_cards[0]\n",
    "print(first_card)\n",
    "last_card = new_deck.all_cards[-1]\n",
    "print(last_card)"
   ]
  },
  {
   "cell_type": "code",
   "execution_count": 428,
   "metadata": {},
   "outputs": [],
   "source": [
    "new_deck.shuffle()"
   ]
  },
  {
   "cell_type": "code",
   "execution_count": 429,
   "metadata": {},
   "outputs": [
    {
     "name": "stdout",
     "output_type": "stream",
     "text": [
      "Eight of Diamonds\n",
      "Three of Hearts\n"
     ]
    }
   ],
   "source": [
    "first_card = new_deck.all_cards[0]\n",
    "print(first_card)\n",
    "last_card = new_deck.all_cards[-1]\n",
    "print(last_card)"
   ]
  },
  {
   "cell_type": "code",
   "execution_count": 430,
   "metadata": {},
   "outputs": [
    {
     "data": {
      "text/plain": [
       "52"
      ]
     },
     "execution_count": 430,
     "metadata": {},
     "output_type": "execute_result"
    }
   ],
   "source": [
    "len(new_deck.all_cards)"
   ]
  },
  {
   "cell_type": "code",
   "execution_count": 431,
   "metadata": {},
   "outputs": [
    {
     "name": "stdout",
     "output_type": "stream",
     "text": [
      "Three of Hearts\n"
     ]
    }
   ],
   "source": [
    "my_card = new_deck.deal_one()\n",
    "print(my_card)"
   ]
  },
  {
   "cell_type": "code",
   "execution_count": 432,
   "metadata": {},
   "outputs": [
    {
     "data": {
      "text/plain": [
       "51"
      ]
     },
     "execution_count": 432,
     "metadata": {},
     "output_type": "execute_result"
    }
   ],
   "source": [
    "len(new_deck.all_cards)\n"
   ]
  },
  {
   "cell_type": "markdown",
   "metadata": {},
   "source": [
    "## Player Class"
   ]
  },
  {
   "cell_type": "code",
   "execution_count": 433,
   "metadata": {},
   "outputs": [],
   "source": [
    "class Player:\n",
    "\n",
    "    def __init__(self, name):\n",
    "        self.name = name\n",
    "        self.all_cards = []\n",
    "\n",
    "    # It is like a Queue (Removing from first, adding to end) (FIFO)\n",
    "    def remove_one(self):\n",
    "        return self.all_cards.pop(0)\n",
    "\n",
    "    def add_cards(self, new_cards):\n",
    "        if type(new_cards) == type([]):  # List of multiple Card Objects\n",
    "            self.all_cards.extend(new_cards)\n",
    "        else:  # Single Card Object\n",
    "            self.all_cards.append(new_cards)\n",
    "\n",
    "    def __str__(self):\n",
    "        return f\"Player {self.name} has {len(self.all_cards)} cards.\""
   ]
  },
  {
   "cell_type": "code",
   "execution_count": 434,
   "metadata": {},
   "outputs": [],
   "source": [
    "new_player = Player(\"Hardvan\")"
   ]
  },
  {
   "cell_type": "code",
   "execution_count": 435,
   "metadata": {},
   "outputs": [
    {
     "name": "stdout",
     "output_type": "stream",
     "text": [
      "Player Hardvan has 0 cards.\n"
     ]
    }
   ],
   "source": [
    "print(new_player)"
   ]
  },
  {
   "cell_type": "code",
   "execution_count": 436,
   "metadata": {},
   "outputs": [],
   "source": [
    "new_player.add_cards(my_card)"
   ]
  },
  {
   "cell_type": "code",
   "execution_count": 437,
   "metadata": {},
   "outputs": [
    {
     "name": "stdout",
     "output_type": "stream",
     "text": [
      "Player Hardvan has 1 cards.\n"
     ]
    }
   ],
   "source": [
    "print(new_player)"
   ]
  },
  {
   "cell_type": "code",
   "execution_count": 438,
   "metadata": {},
   "outputs": [
    {
     "name": "stdout",
     "output_type": "stream",
     "text": [
      "Three of Hearts\n"
     ]
    }
   ],
   "source": [
    "print(new_player.all_cards[0])"
   ]
  },
  {
   "cell_type": "code",
   "execution_count": 439,
   "metadata": {},
   "outputs": [
    {
     "name": "stdout",
     "output_type": "stream",
     "text": [
      "Three of Hearts\n"
     ]
    }
   ],
   "source": [
    "print(new_player.remove_one())"
   ]
  },
  {
   "cell_type": "markdown",
   "metadata": {},
   "source": [
    "## Game Setup"
   ]
  },
  {
   "cell_type": "code",
   "execution_count": 440,
   "metadata": {},
   "outputs": [],
   "source": [
    "# Players\n",
    "player_one = Player(\"One\")\n",
    "player_two = Player(\"Two\")\n",
    "\n",
    "# Deck\n",
    "new_deck = Deck()\n",
    "new_deck.shuffle()\n",
    "\n",
    "# Distributing deck into two halves\n",
    "for x in range(26):\n",
    "    player_one.add_cards(new_deck.deal_one())\n",
    "    player_two.add_cards(new_deck.deal_one())"
   ]
  },
  {
   "cell_type": "code",
   "execution_count": 441,
   "metadata": {},
   "outputs": [],
   "source": [
    "# Game Parameters\n",
    "game_on = True\n",
    "round_no = 0"
   ]
  },
  {
   "cell_type": "code",
   "execution_count": 442,
   "metadata": {},
   "outputs": [
    {
     "name": "stdout",
     "output_type": "stream",
     "text": [
      "Round No: 1\n",
      "Round No: 2\n",
      "Round No: 3\n",
      "Round No: 4\n",
      "Round No: 5\n",
      "Round No: 6\n",
      "Round No: 7\n",
      "Round No: 8\n",
      "Round No: 9\n",
      "Round No: 10\n",
      "Round No: 11\n",
      "Round No: 12\n",
      "War!\n",
      "Round No: 13\n",
      "Round No: 14\n",
      "Round No: 15\n",
      "Round No: 16\n",
      "Round No: 17\n",
      "Round No: 18\n",
      "Round No: 19\n",
      "Round No: 20\n",
      "Round No: 21\n",
      "Round No: 22\n",
      "Round No: 23\n",
      "Round No: 24\n",
      "Round No: 25\n",
      "Round No: 26\n",
      "Round No: 27\n",
      "Round No: 28\n",
      "Round No: 29\n",
      "Round No: 30\n",
      "Round No: 31\n",
      "Round No: 32\n",
      "Round No: 33\n",
      "Round No: 34\n",
      "Round No: 35\n",
      "Round No: 36\n",
      "Round No: 37\n",
      "Round No: 38\n",
      "Round No: 39\n",
      "Round No: 40\n",
      "Round No: 41\n",
      "Round No: 42\n",
      "Round No: 43\n",
      "Round No: 44\n",
      "Round No: 45\n",
      "Round No: 46\n",
      "Round No: 47\n",
      "Round No: 48\n",
      "Round No: 49\n",
      "Round No: 50\n",
      "Round No: 51\n",
      "Round No: 52\n",
      "Round No: 53\n",
      "Round No: 54\n",
      "Round No: 55\n",
      "Round No: 56\n",
      "Round No: 57\n",
      "Round No: 58\n",
      "Round No: 59\n",
      "Round No: 60\n",
      "Round No: 61\n",
      "Round No: 62\n",
      "Round No: 63\n",
      "Round No: 64\n",
      "Round No: 65\n",
      "Round No: 66\n",
      "War!\n",
      "Round No: 67\n",
      "Round No: 68\n",
      "Round No: 69\n",
      "Round No: 70\n",
      "Round No: 71\n",
      "Round No: 72\n",
      "Round No: 73\n",
      "War!\n",
      "Round No: 74\n",
      "Round No: 75\n",
      "Round No: 76\n",
      "Round No: 77\n",
      "Round No: 78\n",
      "Round No: 79\n",
      "Round No: 80\n",
      "Round No: 81\n",
      "Round No: 82\n",
      "Round No: 83\n",
      "Round No: 84\n",
      "Round No: 85\n",
      "Round No: 86\n",
      "Round No: 87\n",
      "Round No: 88\n",
      "Round No: 89\n",
      "Round No: 90\n",
      "Round No: 91\n",
      "Round No: 92\n",
      "Round No: 93\n",
      "Round No: 94\n",
      "War!\n",
      "Round No: 95\n",
      "Round No: 96\n",
      "Round No: 97\n",
      "Round No: 98\n",
      "Round No: 99\n",
      "Round No: 100\n",
      "Round No: 101\n",
      "Round No: 102\n",
      "Round No: 103\n",
      "Round No: 104\n",
      "Round No: 105\n",
      "Round No: 106\n",
      "War!\n",
      "Round No: 107\n",
      "Round No: 108\n",
      "Round No: 109\n",
      "Round No: 110\n",
      "Round No: 111\n",
      "Round No: 112\n",
      "Round No: 113\n",
      "War!\n",
      "Round No: 114\n",
      "Round No: 115\n",
      "Round No: 116\n",
      "Round No: 117\n",
      "Round No: 118\n",
      "Round No: 119\n",
      "Round No: 120\n",
      "Round No: 121\n",
      "Round No: 122\n",
      "Round No: 123\n",
      "Round No: 124\n",
      "Round No: 125\n",
      "Round No: 126\n",
      "Round No: 127\n",
      "War!\n",
      "Round No: 128\n",
      "Round No: 129\n",
      "Round No: 130\n",
      "Round No: 131\n",
      "Round No: 132\n",
      "Round No: 133\n",
      "Round No: 134\n",
      "Round No: 135\n",
      "Round No: 136\n",
      "Round No: 137\n",
      "Round No: 138\n",
      "Round No: 139\n",
      "Round No: 140\n",
      "Round No: 141\n",
      "Round No: 142\n",
      "Round No: 143\n",
      "Round No: 144\n",
      "Round No: 145\n",
      "Round No: 146\n",
      "Round No: 147\n",
      "Round No: 148\n",
      "Round No: 149\n",
      "Round No: 150\n",
      "Round No: 151\n",
      "Round No: 152\n",
      "Round No: 153\n",
      "War!\n",
      "Round No: 154\n",
      "War!\n",
      "Player Two unable to declare war\n",
      "Player One Wins!\n"
     ]
    }
   ],
   "source": [
    "while game_on:\n",
    "    # Round\n",
    "    round_no += 1\n",
    "    print(f\"Round No: {round_no}\")\n",
    "    \n",
    "    # Checking for 0 cards\n",
    "    if (len(player_one.all_cards)) == 0:\n",
    "        print(\"Player One, out of cards! Player Two Wins!\")\n",
    "        game_on = False\n",
    "        break\n",
    "    if (len(player_two.all_cards)) == 0:\n",
    "        print(\"Player Two, out of cards! Player One Wins!\")\n",
    "        game_on = False\n",
    "        break\n",
    "    \n",
    "    #? START A NEW ROUND\n",
    "    # Cards in play\n",
    "    player_one_cards = []\n",
    "    player_one_cards.append(player_one.remove_one())\n",
    "\n",
    "    player_two_cards = []\n",
    "    player_two_cards.append(player_two.remove_one())\n",
    "    \n",
    "    # At War\n",
    "    at_war = True\n",
    "    while at_war:\n",
    "        \n",
    "        if player_one_cards[-1].value > player_two_cards[-1].value:\n",
    "            player_one.add_cards(player_one_cards)\n",
    "            player_one.add_cards(player_two_cards)\n",
    "            \n",
    "            at_war = False\n",
    "        \n",
    "        elif player_one_cards[-1].value < player_two_cards[-1].value:\n",
    "            player_two.add_cards(player_two_cards)\n",
    "            player_two.add_cards(player_one_cards)\n",
    "            \n",
    "            at_war = False\n",
    "        \n",
    "        else:\n",
    "            print(\"War!\")\n",
    "            \n",
    "            if len(player_one.all_cards) < 3:\n",
    "                print(\"Player One unable to declare war\")\n",
    "                print(\"Player Two Wins!\")\n",
    "                game_on = False\n",
    "                break\n",
    "            \n",
    "            elif len(player_two.all_cards) < 3:\n",
    "                print(\"Player Two unable to declare war\")\n",
    "                print(\"Player One Wins!\")\n",
    "                game_on = False\n",
    "                break\n",
    "            \n",
    "            else:\n",
    "                for num in range(3):\n",
    "                    player_one_cards.append(player_one.remove_one())\n",
    "                    player_two_cards.append(player_two.remove_one())"
   ]
  }
 ],
 "metadata": {
  "kernelspec": {
   "display_name": "Python 3.11.0 64-bit",
   "language": "python",
   "name": "python3"
  },
  "language_info": {
   "codemirror_mode": {
    "name": "ipython",
    "version": 3
   },
   "file_extension": ".py",
   "mimetype": "text/x-python",
   "name": "python",
   "nbconvert_exporter": "python",
   "pygments_lexer": "ipython3",
   "version": "3.11.0"
  },
  "orig_nbformat": 4,
  "vscode": {
   "interpreter": {
    "hash": "72b2382ece9768098284d92bbc69d35954e75b60d1e25897d1389c232f4796f0"
   }
  }
 },
 "nbformat": 4,
 "nbformat_minor": 2
}
