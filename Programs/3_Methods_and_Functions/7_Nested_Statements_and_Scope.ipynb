{
 "cells": [
  {
   "cell_type": "markdown",
   "metadata": {},
   "source": [
    "### `LEGB` Rule for Scope\n",
    "\n",
    "`L`ocal  \n",
    "`E`nclosing  \n",
    "`G`lobal  \n",
    "`B`uilt-in\n"
   ]
  },
  {
   "cell_type": "markdown",
   "metadata": {},
   "source": [
    "#### Example of Scope\n"
   ]
  },
  {
   "cell_type": "code",
   "execution_count": 1,
   "metadata": {},
   "outputs": [
    {
     "name": "stdout",
     "output_type": "stream",
     "text": [
      "25\n",
      "50\n",
      "25\n"
     ]
    }
   ],
   "source": [
    "x = 25  # Global Variable\n",
    "\n",
    "\n",
    "def fun():\n",
    "    x = 50  # Local Reassignment (does not affect the global variable)\n",
    "    print(x)\n",
    "\n",
    "\n",
    "print(x)  # Before Function Call (25)\n",
    "fun()  # Function Call (50)\n",
    "print(x)  # After Function Call (25)"
   ]
  },
  {
   "cell_type": "markdown",
   "metadata": {},
   "source": [
    "### global keyword\n",
    "\n",
    "not recommended\n"
   ]
  },
  {
   "cell_type": "code",
   "execution_count": 2,
   "metadata": {},
   "outputs": [
    {
     "name": "stdout",
     "output_type": "stream",
     "text": [
      "25\n",
      "50\n",
      "50\n"
     ]
    }
   ],
   "source": [
    "x = 25\n",
    "\n",
    "\n",
    "def fun():\n",
    "    global x\n",
    "    x = 50  # Global Reassignment\n",
    "    print(x)\n",
    "\n",
    "\n",
    "print(x)  # Before Function Call (25)\n",
    "fun()  # Function Call (50)\n",
    "print(x)  # After Function Call (50)"
   ]
  },
  {
   "cell_type": "code",
   "execution_count": null,
   "metadata": {},
   "outputs": [],
   "source": []
  }
 ],
 "metadata": {
  "kernelspec": {
   "display_name": "Python 3",
   "language": "python",
   "name": "python3"
  },
  "language_info": {
   "codemirror_mode": {
    "name": "ipython",
    "version": 3
   },
   "file_extension": ".py",
   "mimetype": "text/x-python",
   "name": "python",
   "nbconvert_exporter": "python",
   "pygments_lexer": "ipython3",
   "version": "3.10.4"
  },
  "orig_nbformat": 4
 },
 "nbformat": 4,
 "nbformat_minor": 2
}
